{
 "cells": [
  {
   "metadata": {},
   "cell_type": "markdown",
   "source": [
    "# NFL Fantasy Football Data Preprocessing\n",
    "\n",
    "_Coming soon..._"
   ],
   "id": "78513e4aff315ab9"
  },
  {
   "metadata": {
    "ExecuteTime": {
     "end_time": "2024-10-22T01:45:25.786333Z",
     "start_time": "2024-10-22T01:45:25.783345Z"
    }
   },
   "cell_type": "code",
   "source": "import pandas as pd",
   "id": "57086f9c1a9b8247",
   "outputs": [],
   "execution_count": 20
  },
  {
   "metadata": {},
   "cell_type": "markdown",
   "source": "## NFL Positions",
   "id": "8dca6028b24d9117"
  },
  {
   "metadata": {
    "collapsed": true,
    "ExecuteTime": {
     "end_time": "2024-10-22T01:45:27.451488Z",
     "start_time": "2024-10-22T01:45:27.444807Z"
    }
   },
   "cell_type": "code",
   "source": [
    "#\n",
    "# Import positions raw data\n",
    "positions_df = pd.read_csv('../data/00_positions.csv')\n",
    "\n",
    "#\n",
    "# remove url column\n",
    "positions_df = positions_df.drop(columns=['url'])\n",
    "print(positions_df.head())\n",
    "positions_df.to_csv('../data/01_positions.csv', index=False)"
   ],
   "id": "initial_id",
   "outputs": [
    {
     "name": "stdout",
     "output_type": "stream",
     "text": [
      "   id           name abbreviation\n",
      "0   1  Wide Receiver           WR\n",
      "1   2    Left Tackle           LT\n",
      "2   3     Left Guard           LG\n",
      "3   4         Center            C\n",
      "4   5    Right Guard           RG\n"
     ]
    }
   ],
   "execution_count": 21
  },
  {
   "metadata": {},
   "cell_type": "markdown",
   "source": "",
   "id": "bfd82b39bc65dfd"
  }
 ],
 "metadata": {
  "kernelspec": {
   "display_name": "Python 3",
   "language": "python",
   "name": "python3"
  },
  "language_info": {
   "codemirror_mode": {
    "name": "ipython",
    "version": 2
   },
   "file_extension": ".py",
   "mimetype": "text/x-python",
   "name": "python",
   "nbconvert_exporter": "python",
   "pygments_lexer": "ipython2",
   "version": "2.7.6"
  }
 },
 "nbformat": 4,
 "nbformat_minor": 5
}
